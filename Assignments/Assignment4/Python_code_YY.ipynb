{
  "nbformat": 4,
  "nbformat_minor": 0,
  "metadata": {
    "colab": {
      "provenance": []
    },
    "kernelspec": {
      "name": "python3",
      "display_name": "Python 3"
    },
    "language_info": {
      "name": "python"
    }
  },
  "cells": [
    {
      "cell_type": "code",
      "execution_count": 2,
      "metadata": {
        "id": "Rr2654CMEUKf"
      },
      "outputs": [],
      "source": [
        "# Google Drive is mounted manually (sometimes the import code doesn't work for me)\n",
        "# the data set (csv) is downloaded and uploaded to the Drive\n",
        "\n",
        "# load packages\n",
        "import pandas as pd\n",
        "pd.set_option(\"display.max_columns\", None) # to display all columns of the dataframe\n",
        "import numpy as np\n",
        "import plotly.express as px\n"
      ]
    },
    {
      "cell_type": "code",
      "source": [
        "# to read the data set\n",
        "outbreak_2022 = pd.read_csv('/content/drive/MyDrive/ob_report_2022.csv')\n",
        "\n",
        "# to take a look at the data set\n",
        "outbreak_2022.head()\n",
        "\n",
        "# look at the unique categories of the outbreak setting column\n",
        "outbreak_2022['Outbreak Setting'].unique()"
      ],
      "metadata": {
        "colab": {
          "base_uri": "https://localhost:8080/"
        },
        "id": "e3_-TFLxFk88",
        "outputId": "4bda57f6-7144-4be1-a248-b801bcee09c7"
      },
      "execution_count": 3,
      "outputs": [
        {
          "output_type": "execute_result",
          "data": {
            "text/plain": [
              "array(['LTCH', 'Retirement Home', 'Hospital-Chronic Care',\n",
              "       'Hospital-Acute Care', 'Hospital-Psychiatric', 'Transitional Care'],\n",
              "      dtype=object)"
            ]
          },
          "metadata": {},
          "execution_count": 3
        }
      ]
    },
    {
      "cell_type": "code",
      "source": [
        "# to create a new data frame to categorize the outbreak settings into 'hospital' or 'non-hospital'\n",
        "# reference: https://colab.research.google.com/github/google/eng-edu/blob/main/ml/cc/exercises/pandas_dataframe_ultraquick_tutorial.ipynb#scrollTo=FNZsPOgSD4F2\n",
        "\n",
        "# Create and populate a 6x2 NumPy array.\n",
        "my_data = np.array([['LTCH', 'Non-hospital'],\n",
        "                    ['Retirement Home', 'Non-hospital'], \n",
        "                    ['Hospital-Chronic Care', 'Hospital'], \n",
        "                    ['Hospital-Acute Care', 'Hospital'], \n",
        "                    ['Hospital-Psychiatric', 'Hospital'],\n",
        "                    ['Transitional Care', 'Non-hospital']])\n",
        "\n",
        "# Create a Python list that holds the names of the two columns.\n",
        "my_column_names = ['Outbreak locations', 'category']\n",
        "\n",
        "# Create a DataFrame.\n",
        "category_table = pd.DataFrame(data=my_data, columns=my_column_names)\n",
        "\n",
        "# Print the entire DataFrame\n",
        "print(category_table)"
      ],
      "metadata": {
        "colab": {
          "base_uri": "https://localhost:8080/"
        },
        "id": "W9woIaZ-G7a0",
        "outputId": "b46e825a-24a6-4226-a8b3-9634ebf99628"
      },
      "execution_count": 4,
      "outputs": [
        {
          "output_type": "stream",
          "name": "stdout",
          "text": [
            "      Outbreak locations      category\n",
            "0                   LTCH  Non-hospital\n",
            "1        Retirement Home  Non-hospital\n",
            "2  Hospital-Chronic Care      Hospital\n",
            "3    Hospital-Acute Care      Hospital\n",
            "4   Hospital-Psychiatric      Hospital\n",
            "5      Transitional Care  Non-hospital\n"
          ]
        }
      ]
    },
    {
      "cell_type": "code",
      "source": [
        "# to merge the data set and the category table to add the category\n",
        "outbreak_2022_category = pd.merge(outbreak_2022,\n",
        "                           category_table,\n",
        "                           how='left',\n",
        "                           left_on='Outbreak Setting',\n",
        "                           right_on='Outbreak locations')\n",
        "\n",
        "outbreak_2022_category.head()\n",
        "\n",
        "# to count the number of cases of causative agents in non-hospital setting\n",
        "non_hospital = outbreak_2022_category.loc[outbreak_2022_category['category'] == 'Non-hospital', ['Causative Agent-1']]\n",
        "value_non_h = non_hospital['Causative Agent-1'].value_counts().rename_axis('types').reset_index(name='Non-hospital cases')\n",
        "print(value_non_h)\n",
        "\n",
        "# to count the number of cases of causative agents in hospital setting\n",
        "hospital = outbreak_2022_category.loc[outbreak_2022_category['category'] == 'Hospital', ['Causative Agent-1']]\n",
        "value_h = hospital['Causative Agent-1'].value_counts().rename_axis('types').reset_index(name='Hospital cases')\n",
        "print(value_h)\n",
        "\n",
        "# to merge the counts\n",
        "value_merge = pd.merge(value_h,\n",
        "                           value_non_h,\n",
        "                           how='left',\n",
        "                           left_on='types',\n",
        "                           right_on='types')\n",
        "print(value_merge)\n"
      ],
      "metadata": {
        "colab": {
          "base_uri": "https://localhost:8080/"
        },
        "id": "SK7RPzbxJM4X",
        "outputId": "584deac8-fc56-44af-f3c9-257ad79848e2"
      },
      "execution_count": 6,
      "outputs": [
        {
          "output_type": "stream",
          "name": "stdout",
          "text": [
            "                          types  Non-hospital cases\n",
            "0                      COVID-19                 548\n",
            "1   Respiratory syncytial virus                  26\n",
            "2            Unable to identify                  24\n",
            "3    Influenza A (Not subtyped)                  23\n",
            "4                    Rhinovirus                  14\n",
            "5                  Coronavirus*                  13\n",
            "6                Norovirus-like                  12\n",
            "7              Influenza A (H3)                  12\n",
            "8        Enterovirus/Rhinovirus                   9\n",
            "9               Metapneumovirus                   6\n",
            "10                Parainfluenza                   2\n",
            "11           Influenza A (H3N2)                   2\n",
            "                         types  Hospital cases\n",
            "0                     COVID-19             426\n",
            "1  Respiratory syncytial virus               4\n",
            "2             Influenza A (H3)               4\n",
            "3   Influenza A (Not subtyped)               3\n",
            "4                   Rhinovirus               2\n",
            "5        CPE Unspecified (NDM)               1\n",
            "6           Unable to identify               1\n",
            "7        CPE Unspecified (VIM)               1\n",
            "                         types  Hospital cases  Non-hospital cases\n",
            "0                     COVID-19             426               548.0\n",
            "1  Respiratory syncytial virus               4                26.0\n",
            "2             Influenza A (H3)               4                12.0\n",
            "3   Influenza A (Not subtyped)               3                23.0\n",
            "4                   Rhinovirus               2                14.0\n",
            "5        CPE Unspecified (NDM)               1                 NaN\n",
            "6           Unable to identify               1                24.0\n",
            "7        CPE Unspecified (VIM)               1                 NaN\n"
          ]
        }
      ]
    },
    {
      "cell_type": "code",
      "source": [
        "# to make an interative bar graph to compare the cases of different causative agents\n",
        "bar_fig = px.bar(value_merge,\n",
        "                  y ='types', x= ['Hospital cases', 'Non-hospital cases'],\n",
        "                 hover_name = 'types',\n",
        "                 labels = {'variable':'Setting', 'types':'Causative agent',\n",
        "                           'value':'Cases'},\n",
        "                 title = 'Outbreaks in Hospital vs. Non-hospital Settings 2022',\n",
        "                 color_discrete_sequence = ['#1A85FF', '#D41159'])\n",
        "\n",
        "# set the font to arial to improve accessibility\n",
        "bar_fig.update_layout(font_family = 'Arial',\n",
        "                      title_font_family = 'Arial',\n",
        "                      title = {'x':0.5})\n",
        "bar_fig.update_xaxes(title_font_family = 'Arial')\n",
        "bar_fig.show()\n",
        "\n",
        "# to export as html to remain interactive to my Drive\n",
        "bar_fig.write_html(\"/content/drive/MyDrive/Visualization_by_Python.html\")"
      ],
      "metadata": {
        "colab": {
          "base_uri": "https://localhost:8080/",
          "height": 542
        },
        "id": "l_C1jK97YOfa",
        "outputId": "746676c7-0bd7-4dac-d5c7-6d767b0b8075"
      },
      "execution_count": 10,
      "outputs": [
        {
          "output_type": "display_data",
          "data": {
            "text/html": [
              "<html>\n",
              "<head><meta charset=\"utf-8\" /></head>\n",
              "<body>\n",
              "    <div>            <script src=\"https://cdnjs.cloudflare.com/ajax/libs/mathjax/2.7.5/MathJax.js?config=TeX-AMS-MML_SVG\"></script><script type=\"text/javascript\">if (window.MathJax && window.MathJax.Hub && window.MathJax.Hub.Config) {window.MathJax.Hub.Config({SVG: {font: \"STIX-Web\"}});}</script>                <script type=\"text/javascript\">window.PlotlyConfig = {MathJaxConfig: 'local'};</script>\n",
              "        <script src=\"https://cdn.plot.ly/plotly-2.18.2.min.js\"></script>                <div id=\"3804398c-6480-4635-b050-85ce71ecb8a0\" class=\"plotly-graph-div\" style=\"height:525px; width:100%;\"></div>            <script type=\"text/javascript\">                                    window.PLOTLYENV=window.PLOTLYENV || {};                                    if (document.getElementById(\"3804398c-6480-4635-b050-85ce71ecb8a0\")) {                    Plotly.newPlot(                        \"3804398c-6480-4635-b050-85ce71ecb8a0\",                        [{\"alignmentgroup\":\"True\",\"hovertemplate\":\"<b>%{hovertext}</b><br><br>Setting=Hospital cases<br>Cases=%{x}<br>Causative agent=%{y}<extra></extra>\",\"hovertext\":[\"COVID-19\",\"Respiratory syncytial virus\",\"Influenza A (H3)\",\"Influenza A (Not subtyped)\",\"Rhinovirus\",\"CPE Unspecified (NDM)\",\"Unable to identify\",\"CPE Unspecified (VIM)\"],\"legendgroup\":\"Hospital cases\",\"marker\":{\"color\":\"#1A85FF\",\"pattern\":{\"shape\":\"\"}},\"name\":\"Hospital cases\",\"offsetgroup\":\"Hospital cases\",\"orientation\":\"h\",\"showlegend\":true,\"textposition\":\"auto\",\"x\":[426.0,4.0,4.0,3.0,2.0,1.0,1.0,1.0],\"xaxis\":\"x\",\"y\":[\"COVID-19\",\"Respiratory syncytial virus\",\"Influenza A (H3)\",\"Influenza A (Not subtyped)\",\"Rhinovirus\",\"CPE Unspecified (NDM)\",\"Unable to identify\",\"CPE Unspecified (VIM)\"],\"yaxis\":\"y\",\"type\":\"bar\"},{\"alignmentgroup\":\"True\",\"hovertemplate\":\"<b>%{hovertext}</b><br><br>Setting=Non-hospital cases<br>Cases=%{x}<br>Causative agent=%{y}<extra></extra>\",\"hovertext\":[\"COVID-19\",\"Respiratory syncytial virus\",\"Influenza A (H3)\",\"Influenza A (Not subtyped)\",\"Rhinovirus\",\"CPE Unspecified (NDM)\",\"Unable to identify\",\"CPE Unspecified (VIM)\"],\"legendgroup\":\"Non-hospital cases\",\"marker\":{\"color\":\"#D41159\",\"pattern\":{\"shape\":\"\"}},\"name\":\"Non-hospital cases\",\"offsetgroup\":\"Non-hospital cases\",\"orientation\":\"h\",\"showlegend\":true,\"textposition\":\"auto\",\"x\":[548.0,26.0,12.0,23.0,14.0,null,24.0,null],\"xaxis\":\"x\",\"y\":[\"COVID-19\",\"Respiratory syncytial virus\",\"Influenza A (H3)\",\"Influenza A (Not subtyped)\",\"Rhinovirus\",\"CPE Unspecified (NDM)\",\"Unable to identify\",\"CPE Unspecified (VIM)\"],\"yaxis\":\"y\",\"type\":\"bar\"}],                        {\"template\":{\"data\":{\"histogram2dcontour\":[{\"type\":\"histogram2dcontour\",\"colorbar\":{\"outlinewidth\":0,\"ticks\":\"\"},\"colorscale\":[[0.0,\"#0d0887\"],[0.1111111111111111,\"#46039f\"],[0.2222222222222222,\"#7201a8\"],[0.3333333333333333,\"#9c179e\"],[0.4444444444444444,\"#bd3786\"],[0.5555555555555556,\"#d8576b\"],[0.6666666666666666,\"#ed7953\"],[0.7777777777777778,\"#fb9f3a\"],[0.8888888888888888,\"#fdca26\"],[1.0,\"#f0f921\"]]}],\"choropleth\":[{\"type\":\"choropleth\",\"colorbar\":{\"outlinewidth\":0,\"ticks\":\"\"}}],\"histogram2d\":[{\"type\":\"histogram2d\",\"colorbar\":{\"outlinewidth\":0,\"ticks\":\"\"},\"colorscale\":[[0.0,\"#0d0887\"],[0.1111111111111111,\"#46039f\"],[0.2222222222222222,\"#7201a8\"],[0.3333333333333333,\"#9c179e\"],[0.4444444444444444,\"#bd3786\"],[0.5555555555555556,\"#d8576b\"],[0.6666666666666666,\"#ed7953\"],[0.7777777777777778,\"#fb9f3a\"],[0.8888888888888888,\"#fdca26\"],[1.0,\"#f0f921\"]]}],\"heatmap\":[{\"type\":\"heatmap\",\"colorbar\":{\"outlinewidth\":0,\"ticks\":\"\"},\"colorscale\":[[0.0,\"#0d0887\"],[0.1111111111111111,\"#46039f\"],[0.2222222222222222,\"#7201a8\"],[0.3333333333333333,\"#9c179e\"],[0.4444444444444444,\"#bd3786\"],[0.5555555555555556,\"#d8576b\"],[0.6666666666666666,\"#ed7953\"],[0.7777777777777778,\"#fb9f3a\"],[0.8888888888888888,\"#fdca26\"],[1.0,\"#f0f921\"]]}],\"heatmapgl\":[{\"type\":\"heatmapgl\",\"colorbar\":{\"outlinewidth\":0,\"ticks\":\"\"},\"colorscale\":[[0.0,\"#0d0887\"],[0.1111111111111111,\"#46039f\"],[0.2222222222222222,\"#7201a8\"],[0.3333333333333333,\"#9c179e\"],[0.4444444444444444,\"#bd3786\"],[0.5555555555555556,\"#d8576b\"],[0.6666666666666666,\"#ed7953\"],[0.7777777777777778,\"#fb9f3a\"],[0.8888888888888888,\"#fdca26\"],[1.0,\"#f0f921\"]]}],\"contourcarpet\":[{\"type\":\"contourcarpet\",\"colorbar\":{\"outlinewidth\":0,\"ticks\":\"\"}}],\"contour\":[{\"type\":\"contour\",\"colorbar\":{\"outlinewidth\":0,\"ticks\":\"\"},\"colorscale\":[[0.0,\"#0d0887\"],[0.1111111111111111,\"#46039f\"],[0.2222222222222222,\"#7201a8\"],[0.3333333333333333,\"#9c179e\"],[0.4444444444444444,\"#bd3786\"],[0.5555555555555556,\"#d8576b\"],[0.6666666666666666,\"#ed7953\"],[0.7777777777777778,\"#fb9f3a\"],[0.8888888888888888,\"#fdca26\"],[1.0,\"#f0f921\"]]}],\"surface\":[{\"type\":\"surface\",\"colorbar\":{\"outlinewidth\":0,\"ticks\":\"\"},\"colorscale\":[[0.0,\"#0d0887\"],[0.1111111111111111,\"#46039f\"],[0.2222222222222222,\"#7201a8\"],[0.3333333333333333,\"#9c179e\"],[0.4444444444444444,\"#bd3786\"],[0.5555555555555556,\"#d8576b\"],[0.6666666666666666,\"#ed7953\"],[0.7777777777777778,\"#fb9f3a\"],[0.8888888888888888,\"#fdca26\"],[1.0,\"#f0f921\"]]}],\"mesh3d\":[{\"type\":\"mesh3d\",\"colorbar\":{\"outlinewidth\":0,\"ticks\":\"\"}}],\"scatter\":[{\"fillpattern\":{\"fillmode\":\"overlay\",\"size\":10,\"solidity\":0.2},\"type\":\"scatter\"}],\"parcoords\":[{\"type\":\"parcoords\",\"line\":{\"colorbar\":{\"outlinewidth\":0,\"ticks\":\"\"}}}],\"scatterpolargl\":[{\"type\":\"scatterpolargl\",\"marker\":{\"colorbar\":{\"outlinewidth\":0,\"ticks\":\"\"}}}],\"bar\":[{\"error_x\":{\"color\":\"#2a3f5f\"},\"error_y\":{\"color\":\"#2a3f5f\"},\"marker\":{\"line\":{\"color\":\"#E5ECF6\",\"width\":0.5},\"pattern\":{\"fillmode\":\"overlay\",\"size\":10,\"solidity\":0.2}},\"type\":\"bar\"}],\"scattergeo\":[{\"type\":\"scattergeo\",\"marker\":{\"colorbar\":{\"outlinewidth\":0,\"ticks\":\"\"}}}],\"scatterpolar\":[{\"type\":\"scatterpolar\",\"marker\":{\"colorbar\":{\"outlinewidth\":0,\"ticks\":\"\"}}}],\"histogram\":[{\"marker\":{\"pattern\":{\"fillmode\":\"overlay\",\"size\":10,\"solidity\":0.2}},\"type\":\"histogram\"}],\"scattergl\":[{\"type\":\"scattergl\",\"marker\":{\"colorbar\":{\"outlinewidth\":0,\"ticks\":\"\"}}}],\"scatter3d\":[{\"type\":\"scatter3d\",\"line\":{\"colorbar\":{\"outlinewidth\":0,\"ticks\":\"\"}},\"marker\":{\"colorbar\":{\"outlinewidth\":0,\"ticks\":\"\"}}}],\"scattermapbox\":[{\"type\":\"scattermapbox\",\"marker\":{\"colorbar\":{\"outlinewidth\":0,\"ticks\":\"\"}}}],\"scatterternary\":[{\"type\":\"scatterternary\",\"marker\":{\"colorbar\":{\"outlinewidth\":0,\"ticks\":\"\"}}}],\"scattercarpet\":[{\"type\":\"scattercarpet\",\"marker\":{\"colorbar\":{\"outlinewidth\":0,\"ticks\":\"\"}}}],\"carpet\":[{\"aaxis\":{\"endlinecolor\":\"#2a3f5f\",\"gridcolor\":\"white\",\"linecolor\":\"white\",\"minorgridcolor\":\"white\",\"startlinecolor\":\"#2a3f5f\"},\"baxis\":{\"endlinecolor\":\"#2a3f5f\",\"gridcolor\":\"white\",\"linecolor\":\"white\",\"minorgridcolor\":\"white\",\"startlinecolor\":\"#2a3f5f\"},\"type\":\"carpet\"}],\"table\":[{\"cells\":{\"fill\":{\"color\":\"#EBF0F8\"},\"line\":{\"color\":\"white\"}},\"header\":{\"fill\":{\"color\":\"#C8D4E3\"},\"line\":{\"color\":\"white\"}},\"type\":\"table\"}],\"barpolar\":[{\"marker\":{\"line\":{\"color\":\"#E5ECF6\",\"width\":0.5},\"pattern\":{\"fillmode\":\"overlay\",\"size\":10,\"solidity\":0.2}},\"type\":\"barpolar\"}],\"pie\":[{\"automargin\":true,\"type\":\"pie\"}]},\"layout\":{\"autotypenumbers\":\"strict\",\"colorway\":[\"#636efa\",\"#EF553B\",\"#00cc96\",\"#ab63fa\",\"#FFA15A\",\"#19d3f3\",\"#FF6692\",\"#B6E880\",\"#FF97FF\",\"#FECB52\"],\"font\":{\"color\":\"#2a3f5f\"},\"hovermode\":\"closest\",\"hoverlabel\":{\"align\":\"left\"},\"paper_bgcolor\":\"white\",\"plot_bgcolor\":\"#E5ECF6\",\"polar\":{\"bgcolor\":\"#E5ECF6\",\"angularaxis\":{\"gridcolor\":\"white\",\"linecolor\":\"white\",\"ticks\":\"\"},\"radialaxis\":{\"gridcolor\":\"white\",\"linecolor\":\"white\",\"ticks\":\"\"}},\"ternary\":{\"bgcolor\":\"#E5ECF6\",\"aaxis\":{\"gridcolor\":\"white\",\"linecolor\":\"white\",\"ticks\":\"\"},\"baxis\":{\"gridcolor\":\"white\",\"linecolor\":\"white\",\"ticks\":\"\"},\"caxis\":{\"gridcolor\":\"white\",\"linecolor\":\"white\",\"ticks\":\"\"}},\"coloraxis\":{\"colorbar\":{\"outlinewidth\":0,\"ticks\":\"\"}},\"colorscale\":{\"sequential\":[[0.0,\"#0d0887\"],[0.1111111111111111,\"#46039f\"],[0.2222222222222222,\"#7201a8\"],[0.3333333333333333,\"#9c179e\"],[0.4444444444444444,\"#bd3786\"],[0.5555555555555556,\"#d8576b\"],[0.6666666666666666,\"#ed7953\"],[0.7777777777777778,\"#fb9f3a\"],[0.8888888888888888,\"#fdca26\"],[1.0,\"#f0f921\"]],\"sequentialminus\":[[0.0,\"#0d0887\"],[0.1111111111111111,\"#46039f\"],[0.2222222222222222,\"#7201a8\"],[0.3333333333333333,\"#9c179e\"],[0.4444444444444444,\"#bd3786\"],[0.5555555555555556,\"#d8576b\"],[0.6666666666666666,\"#ed7953\"],[0.7777777777777778,\"#fb9f3a\"],[0.8888888888888888,\"#fdca26\"],[1.0,\"#f0f921\"]],\"diverging\":[[0,\"#8e0152\"],[0.1,\"#c51b7d\"],[0.2,\"#de77ae\"],[0.3,\"#f1b6da\"],[0.4,\"#fde0ef\"],[0.5,\"#f7f7f7\"],[0.6,\"#e6f5d0\"],[0.7,\"#b8e186\"],[0.8,\"#7fbc41\"],[0.9,\"#4d9221\"],[1,\"#276419\"]]},\"xaxis\":{\"gridcolor\":\"white\",\"linecolor\":\"white\",\"ticks\":\"\",\"title\":{\"standoff\":15},\"zerolinecolor\":\"white\",\"automargin\":true,\"zerolinewidth\":2},\"yaxis\":{\"gridcolor\":\"white\",\"linecolor\":\"white\",\"ticks\":\"\",\"title\":{\"standoff\":15},\"zerolinecolor\":\"white\",\"automargin\":true,\"zerolinewidth\":2},\"scene\":{\"xaxis\":{\"backgroundcolor\":\"#E5ECF6\",\"gridcolor\":\"white\",\"linecolor\":\"white\",\"showbackground\":true,\"ticks\":\"\",\"zerolinecolor\":\"white\",\"gridwidth\":2},\"yaxis\":{\"backgroundcolor\":\"#E5ECF6\",\"gridcolor\":\"white\",\"linecolor\":\"white\",\"showbackground\":true,\"ticks\":\"\",\"zerolinecolor\":\"white\",\"gridwidth\":2},\"zaxis\":{\"backgroundcolor\":\"#E5ECF6\",\"gridcolor\":\"white\",\"linecolor\":\"white\",\"showbackground\":true,\"ticks\":\"\",\"zerolinecolor\":\"white\",\"gridwidth\":2}},\"shapedefaults\":{\"line\":{\"color\":\"#2a3f5f\"}},\"annotationdefaults\":{\"arrowcolor\":\"#2a3f5f\",\"arrowhead\":0,\"arrowwidth\":1},\"geo\":{\"bgcolor\":\"white\",\"landcolor\":\"#E5ECF6\",\"subunitcolor\":\"white\",\"showland\":true,\"showlakes\":true,\"lakecolor\":\"white\"},\"title\":{\"x\":0.05},\"mapbox\":{\"style\":\"light\"}}},\"xaxis\":{\"anchor\":\"y\",\"domain\":[0.0,1.0],\"title\":{\"text\":\"Cases\",\"font\":{\"family\":\"Arial\"}}},\"yaxis\":{\"anchor\":\"x\",\"domain\":[0.0,1.0],\"title\":{\"text\":\"Causative agent\"}},\"legend\":{\"title\":{\"text\":\"Setting\"},\"tracegroupgap\":0},\"title\":{\"text\":\"Outbreaks in Hospital vs. Non-hospital Settings 2022\",\"font\":{\"family\":\"Arial\"},\"x\":0.5},\"barmode\":\"relative\",\"font\":{\"family\":\"Arial\"}},                        {\"responsive\": true}                    ).then(function(){\n",
              "                            \n",
              "var gd = document.getElementById('3804398c-6480-4635-b050-85ce71ecb8a0');\n",
              "var x = new MutationObserver(function (mutations, observer) {{\n",
              "        var display = window.getComputedStyle(gd).display;\n",
              "        if (!display || display === 'none') {{\n",
              "            console.log([gd, 'removed!']);\n",
              "            Plotly.purge(gd);\n",
              "            observer.disconnect();\n",
              "        }}\n",
              "}});\n",
              "\n",
              "// Listen for the removal of the full notebook cells\n",
              "var notebookContainer = gd.closest('#notebook-container');\n",
              "if (notebookContainer) {{\n",
              "    x.observe(notebookContainer, {childList: true});\n",
              "}}\n",
              "\n",
              "// Listen for the clearing of the current output cell\n",
              "var outputEl = gd.closest('.output');\n",
              "if (outputEl) {{\n",
              "    x.observe(outputEl, {childList: true});\n",
              "}}\n",
              "\n",
              "                        })                };                            </script>        </div>\n",
              "</body>\n",
              "</html>"
            ]
          },
          "metadata": {}
        }
      ]
    }
  ]
}